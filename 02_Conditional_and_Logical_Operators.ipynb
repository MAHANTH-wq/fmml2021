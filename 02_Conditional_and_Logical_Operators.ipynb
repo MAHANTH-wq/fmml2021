{
  "nbformat": 4,
  "nbformat_minor": 0,
  "metadata": {
    "colab": {
      "name": "02_Conditional_and_Logical_Operators.ipynb",
      "provenance": [],
      "include_colab_link": true
    },
    "kernelspec": {
      "name": "python3",
      "display_name": "Python 3"
    },
    "language_info": {
      "name": "python"
    }
  },
  "cells": [
    {
      "cell_type": "markdown",
      "metadata": {
        "id": "view-in-github",
        "colab_type": "text"
      },
      "source": [
        "<a href=\"https://colab.research.google.com/github/MAHANTH-wq/fmml2021/blob/main/02_Conditional_and_Logical_Operators.ipynb\" target=\"_parent\"><img src=\"https://colab.research.google.com/assets/colab-badge.svg\" alt=\"Open In Colab\"/></a>"
      ]
    },
    {
      "cell_type": "code",
      "metadata": {
        "id": "d_4Xzhe4p5Jh",
        "outputId": "d0278320-1da0-49cb-db86-b25feebf2d1c",
        "colab": {
          "base_uri": "https://localhost:8080/"
        }
      },
      "source": [
        "!python --version"
      ],
      "execution_count": 2,
      "outputs": [
        {
          "output_type": "stream",
          "name": "stdout",
          "text": [
            "Python 3.7.11\n"
          ]
        }
      ]
    },
    {
      "cell_type": "markdown",
      "metadata": {
        "id": "LQ7shzxUfj6N"
      },
      "source": [
        "### Conditional and Logical Operators"
      ]
    },
    {
      "cell_type": "markdown",
      "metadata": {
        "id": "PI0fJw10fswU"
      },
      "source": [
        "#### Conditional Operators\n",
        "```\n",
        "< less than \n",
        "> greater than\n",
        "== equal to\n",
        "!= not equal to\n",
        "<= less than or equal to\n",
        ">= greater than or equal to\n",
        "```\n",
        "\n",
        "\n",
        "\n"
      ]
    },
    {
      "cell_type": "code",
      "metadata": {
        "id": "dm1hT_B9jXGu",
        "outputId": "511a3d4f-bc1c-4eeb-b62c-61ba5a400e2d",
        "colab": {
          "base_uri": "https://localhost:8080/"
        }
      },
      "source": [
        "5 < 3"
      ],
      "execution_count": 1,
      "outputs": [
        {
          "output_type": "execute_result",
          "data": {
            "text/plain": [
              "False"
            ]
          },
          "metadata": {},
          "execution_count": 1
        }
      ]
    },
    {
      "cell_type": "code",
      "metadata": {
        "id": "BjHkFO4SbEhb",
        "outputId": "32b201d0-8cdb-4aed-958c-99e495c8cc67",
        "colab": {
          "base_uri": "https://localhost:8080/"
        }
      },
      "source": [
        "5 > 3"
      ],
      "execution_count": 3,
      "outputs": [
        {
          "output_type": "execute_result",
          "data": {
            "text/plain": [
              "True"
            ]
          },
          "metadata": {},
          "execution_count": 3
        }
      ]
    },
    {
      "cell_type": "code",
      "metadata": {
        "id": "2DtiCXDAbISf",
        "outputId": "911d2a18-b39d-4b3d-855e-501471679820",
        "colab": {
          "base_uri": "https://localhost:8080/"
        }
      },
      "source": [
        "5 == 3"
      ],
      "execution_count": 4,
      "outputs": [
        {
          "output_type": "execute_result",
          "data": {
            "text/plain": [
              "False"
            ]
          },
          "metadata": {},
          "execution_count": 4
        }
      ]
    },
    {
      "cell_type": "code",
      "metadata": {
        "id": "4Dc_T_mUbPb1",
        "outputId": "29d08699-61d9-4bf0-fa20-717434b3373f",
        "colab": {
          "base_uri": "https://localhost:8080/"
        }
      },
      "source": [
        "5 != 3"
      ],
      "execution_count": 5,
      "outputs": [
        {
          "output_type": "execute_result",
          "data": {
            "text/plain": [
              "True"
            ]
          },
          "metadata": {},
          "execution_count": 5
        }
      ]
    },
    {
      "cell_type": "code",
      "metadata": {
        "id": "XSW7YMtabQ4E"
      },
      "source": [
        "akbar_age = 43\n",
        "antony_age = 53"
      ],
      "execution_count": 6,
      "outputs": []
    },
    {
      "cell_type": "code",
      "metadata": {
        "id": "KVCzBU1xbbm0",
        "outputId": "54e5cf78-bc42-4d6f-9759-2f19ba1c6422",
        "colab": {
          "base_uri": "https://localhost:8080/"
        }
      },
      "source": [
        "akbar_age < antony_age"
      ],
      "execution_count": 7,
      "outputs": [
        {
          "output_type": "execute_result",
          "data": {
            "text/plain": [
              "True"
            ]
          },
          "metadata": {},
          "execution_count": 7
        }
      ]
    },
    {
      "cell_type": "code",
      "metadata": {
        "id": "gs2hOefnbnsF",
        "outputId": "cb2e200d-d0ed-44a3-bd7d-fe050b3883d9",
        "colab": {
          "base_uri": "https://localhost:8080/"
        }
      },
      "source": [
        "(akbar_age > antony_age)"
      ],
      "execution_count": 8,
      "outputs": [
        {
          "output_type": "execute_result",
          "data": {
            "text/plain": [
              "False"
            ]
          },
          "metadata": {},
          "execution_count": 8
        }
      ]
    },
    {
      "cell_type": "markdown",
      "metadata": {
        "id": "ifAKT3zM3_AF"
      },
      "source": [
        "#### Logical Operators\n",
        "```\n",
        "and\n",
        "or\n",
        "not\n",
        "```"
      ]
    },
    {
      "cell_type": "code",
      "metadata": {
        "id": "wy1D4AdmcVyA",
        "outputId": "b982f6e0-3bd9-4e41-d684-434b3b32b381",
        "colab": {
          "base_uri": "https://localhost:8080/"
        }
      },
      "source": [
        "(akbar_age < 40)"
      ],
      "execution_count": 9,
      "outputs": [
        {
          "output_type": "execute_result",
          "data": {
            "text/plain": [
              "False"
            ]
          },
          "metadata": {},
          "execution_count": 9
        }
      ]
    },
    {
      "cell_type": "code",
      "metadata": {
        "id": "EeBrBGomcYEO",
        "outputId": "4dcde6af-4183-467d-c846-684870f721b4",
        "colab": {
          "base_uri": "https://localhost:8080/"
        }
      },
      "source": [
        "(antony_age > 40)"
      ],
      "execution_count": 10,
      "outputs": [
        {
          "output_type": "execute_result",
          "data": {
            "text/plain": [
              "True"
            ]
          },
          "metadata": {},
          "execution_count": 10
        }
      ]
    },
    {
      "cell_type": "code",
      "metadata": {
        "id": "O0kjtUXe4K1e",
        "outputId": "9973e5eb-8a6a-4bc0-db89-d6ac228512de",
        "colab": {
          "base_uri": "https://localhost:8080/"
        }
      },
      "source": [
        "(akbar_age < 40) or (antony_age > 40)"
      ],
      "execution_count": 11,
      "outputs": [
        {
          "output_type": "execute_result",
          "data": {
            "text/plain": [
              "True"
            ]
          },
          "metadata": {},
          "execution_count": 11
        }
      ]
    },
    {
      "cell_type": "code",
      "metadata": {
        "id": "fB52_Yeo0Bv-",
        "outputId": "315b7a72-e66c-4d7d-c514-2abc6e38f870",
        "colab": {
          "base_uri": "https://localhost:8080/"
        }
      },
      "source": [
        "False or True"
      ],
      "execution_count": 12,
      "outputs": [
        {
          "output_type": "execute_result",
          "data": {
            "text/plain": [
              "True"
            ]
          },
          "metadata": {},
          "execution_count": 12
        }
      ]
    },
    {
      "cell_type": "code",
      "metadata": {
        "id": "mpBhFHZhcprc",
        "outputId": "6586003e-a7c2-43a8-9ca8-467634732e4b",
        "colab": {
          "base_uri": "https://localhost:8080/"
        }
      },
      "source": [
        "(akbar_age < 40) and (antony_age > 40)"
      ],
      "execution_count": 13,
      "outputs": [
        {
          "output_type": "execute_result",
          "data": {
            "text/plain": [
              "False"
            ]
          },
          "metadata": {},
          "execution_count": 13
        }
      ]
    },
    {
      "cell_type": "code",
      "metadata": {
        "id": "mdkmh4K3ct3-",
        "outputId": "b3e28246-a561-4477-d034-7e6e90dd8cdd",
        "colab": {
          "base_uri": "https://localhost:8080/"
        }
      },
      "source": [
        "False and True"
      ],
      "execution_count": 14,
      "outputs": [
        {
          "output_type": "execute_result",
          "data": {
            "text/plain": [
              "False"
            ]
          },
          "metadata": {},
          "execution_count": 14
        }
      ]
    },
    {
      "cell_type": "code",
      "metadata": {
        "id": "rJUB382Ecz4M",
        "outputId": "35cda3f8-1713-4714-8686-fab5144c45a1",
        "colab": {
          "base_uri": "https://localhost:8080/"
        }
      },
      "source": [
        "not (akbar_age < 40)"
      ],
      "execution_count": 15,
      "outputs": [
        {
          "output_type": "execute_result",
          "data": {
            "text/plain": [
              "True"
            ]
          },
          "metadata": {},
          "execution_count": 15
        }
      ]
    },
    {
      "cell_type": "code",
      "metadata": {
        "id": "TknwOBHtdAPg",
        "outputId": "b71239ca-b756-4834-c104-4b233e57dcc3",
        "colab": {
          "base_uri": "https://localhost:8080/"
        }
      },
      "source": [
        "not False"
      ],
      "execution_count": 16,
      "outputs": [
        {
          "output_type": "execute_result",
          "data": {
            "text/plain": [
              "True"
            ]
          },
          "metadata": {},
          "execution_count": 16
        }
      ]
    },
    {
      "cell_type": "markdown",
      "metadata": {
        "id": "vUAWMNbjiSvf"
      },
      "source": [
        "#### References"
      ]
    },
    {
      "cell_type": "markdown",
      "metadata": {
        "id": "KmpvkMmKiVcZ"
      },
      "source": [
        "1. [Python Operators](https://www.w3schools.com/python/python_operators.asp) and [Python Exercises](https://www.w3schools.com/python/exercise.asp)\n",
        "2. [Official Python Documentation](https://docs.python.org/3/tutorial/introduction.html)\n",
        "\n"
      ]
    }
  ]
}